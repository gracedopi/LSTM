{
 "cells": [
  {
   "cell_type": "code",
   "execution_count": 3,
   "metadata": {},
   "outputs": [],
   "source": [
    "import yfinance as yf\n",
    "import time\n",
    "import datetime\n",
    "\n",
    "stock_symbol = 'ANTM.JK'\n"
   ]
  },
  {
   "cell_type": "code",
   "execution_count": 4,
   "metadata": {},
   "outputs": [
    {
     "name": "stdout",
     "output_type": "stream",
     "text": [
      "[*********************100%***********************]  1 of 1 completed\n"
     ]
    }
   ],
   "source": [
    "data = yf.download(tickers=stock_symbol,start='2016-9-23',end='2021-9-23',interval='1d')"
   ]
  },
  {
   "cell_type": "code",
   "execution_count": 5,
   "metadata": {},
   "outputs": [
    {
     "data": {
      "text/plain": [
       "pandas.core.frame.DataFrame"
      ]
     },
     "execution_count": 5,
     "metadata": {},
     "output_type": "execute_result"
    }
   ],
   "source": [
    "type(data)"
   ]
  },
  {
   "cell_type": "code",
   "execution_count": 6,
   "metadata": {},
   "outputs": [
    {
     "data": {
      "text/html": [
       "<div>\n",
       "<style scoped>\n",
       "    .dataframe tbody tr th:only-of-type {\n",
       "        vertical-align: middle;\n",
       "    }\n",
       "\n",
       "    .dataframe tbody tr th {\n",
       "        vertical-align: top;\n",
       "    }\n",
       "\n",
       "    .dataframe thead th {\n",
       "        text-align: right;\n",
       "    }\n",
       "</style>\n",
       "<table border=\"1\" class=\"dataframe\">\n",
       "  <thead>\n",
       "    <tr style=\"text-align: right;\">\n",
       "      <th></th>\n",
       "      <th>Open</th>\n",
       "      <th>High</th>\n",
       "      <th>Low</th>\n",
       "      <th>Close</th>\n",
       "      <th>Adj Close</th>\n",
       "      <th>Volume</th>\n",
       "    </tr>\n",
       "    <tr>\n",
       "      <th>Date</th>\n",
       "      <th></th>\n",
       "      <th></th>\n",
       "      <th></th>\n",
       "      <th></th>\n",
       "      <th></th>\n",
       "      <th></th>\n",
       "    </tr>\n",
       "  </thead>\n",
       "  <tbody>\n",
       "    <tr>\n",
       "      <th>2016-09-23</th>\n",
       "      <td>665.0</td>\n",
       "      <td>690.0</td>\n",
       "      <td>665.0</td>\n",
       "      <td>665.0</td>\n",
       "      <td>645.098206</td>\n",
       "      <td>45387900</td>\n",
       "    </tr>\n",
       "    <tr>\n",
       "      <th>2016-09-26</th>\n",
       "      <td>660.0</td>\n",
       "      <td>680.0</td>\n",
       "      <td>640.0</td>\n",
       "      <td>645.0</td>\n",
       "      <td>625.696777</td>\n",
       "      <td>40092100</td>\n",
       "    </tr>\n",
       "    <tr>\n",
       "      <th>2016-09-27</th>\n",
       "      <td>645.0</td>\n",
       "      <td>780.0</td>\n",
       "      <td>630.0</td>\n",
       "      <td>770.0</td>\n",
       "      <td>746.955872</td>\n",
       "      <td>504324900</td>\n",
       "    </tr>\n",
       "    <tr>\n",
       "      <th>2016-09-28</th>\n",
       "      <td>785.0</td>\n",
       "      <td>810.0</td>\n",
       "      <td>760.0</td>\n",
       "      <td>795.0</td>\n",
       "      <td>771.207642</td>\n",
       "      <td>351019700</td>\n",
       "    </tr>\n",
       "    <tr>\n",
       "      <th>2016-09-29</th>\n",
       "      <td>810.0</td>\n",
       "      <td>850.0</td>\n",
       "      <td>810.0</td>\n",
       "      <td>830.0</td>\n",
       "      <td>805.160156</td>\n",
       "      <td>441474400</td>\n",
       "    </tr>\n",
       "  </tbody>\n",
       "</table>\n",
       "</div>"
      ],
      "text/plain": [
       "             Open   High    Low  Close   Adj Close     Volume\n",
       "Date                                                         \n",
       "2016-09-23  665.0  690.0  665.0  665.0  645.098206   45387900\n",
       "2016-09-26  660.0  680.0  640.0  645.0  625.696777   40092100\n",
       "2016-09-27  645.0  780.0  630.0  770.0  746.955872  504324900\n",
       "2016-09-28  785.0  810.0  760.0  795.0  771.207642  351019700\n",
       "2016-09-29  810.0  850.0  810.0  830.0  805.160156  441474400"
      ]
     },
     "execution_count": 6,
     "metadata": {},
     "output_type": "execute_result"
    }
   ],
   "source": [
    "data.head()"
   ]
  },
  {
   "cell_type": "code",
   "execution_count": 7,
   "metadata": {},
   "outputs": [
    {
     "data": {
      "text/plain": [
       "1260"
      ]
     },
     "execution_count": 7,
     "metadata": {},
     "output_type": "execute_result"
    }
   ],
   "source": [
    "\n",
    "len(data)"
   ]
  },
  {
   "cell_type": "code",
   "execution_count": 8,
   "metadata": {},
   "outputs": [
    {
     "data": {
      "text/html": [
       "<div>\n",
       "<style scoped>\n",
       "    .dataframe tbody tr th:only-of-type {\n",
       "        vertical-align: middle;\n",
       "    }\n",
       "\n",
       "    .dataframe tbody tr th {\n",
       "        vertical-align: top;\n",
       "    }\n",
       "\n",
       "    .dataframe thead th {\n",
       "        text-align: right;\n",
       "    }\n",
       "</style>\n",
       "<table border=\"1\" class=\"dataframe\">\n",
       "  <thead>\n",
       "    <tr style=\"text-align: right;\">\n",
       "      <th></th>\n",
       "      <th>Open</th>\n",
       "      <th>High</th>\n",
       "      <th>Low</th>\n",
       "      <th>Close</th>\n",
       "      <th>Adj Close</th>\n",
       "      <th>Volume</th>\n",
       "    </tr>\n",
       "    <tr>\n",
       "      <th>Date</th>\n",
       "      <th></th>\n",
       "      <th></th>\n",
       "      <th></th>\n",
       "      <th></th>\n",
       "      <th></th>\n",
       "      <th></th>\n",
       "    </tr>\n",
       "  </thead>\n",
       "  <tbody>\n",
       "    <tr>\n",
       "      <th>2021-09-16</th>\n",
       "      <td>2520.0</td>\n",
       "      <td>2550.0</td>\n",
       "      <td>2390.0</td>\n",
       "      <td>2410.0</td>\n",
       "      <td>2410.0</td>\n",
       "      <td>163306000</td>\n",
       "    </tr>\n",
       "    <tr>\n",
       "      <th>2021-09-17</th>\n",
       "      <td>2370.0</td>\n",
       "      <td>2430.0</td>\n",
       "      <td>2370.0</td>\n",
       "      <td>2400.0</td>\n",
       "      <td>2400.0</td>\n",
       "      <td>61535600</td>\n",
       "    </tr>\n",
       "    <tr>\n",
       "      <th>2021-09-20</th>\n",
       "      <td>2380.0</td>\n",
       "      <td>2390.0</td>\n",
       "      <td>2330.0</td>\n",
       "      <td>2350.0</td>\n",
       "      <td>2350.0</td>\n",
       "      <td>82487500</td>\n",
       "    </tr>\n",
       "    <tr>\n",
       "      <th>2021-09-21</th>\n",
       "      <td>2350.0</td>\n",
       "      <td>2370.0</td>\n",
       "      <td>2300.0</td>\n",
       "      <td>2360.0</td>\n",
       "      <td>2360.0</td>\n",
       "      <td>66014000</td>\n",
       "    </tr>\n",
       "    <tr>\n",
       "      <th>2021-09-22</th>\n",
       "      <td>2370.0</td>\n",
       "      <td>2410.0</td>\n",
       "      <td>2330.0</td>\n",
       "      <td>2340.0</td>\n",
       "      <td>2340.0</td>\n",
       "      <td>88209700</td>\n",
       "    </tr>\n",
       "  </tbody>\n",
       "</table>\n",
       "</div>"
      ],
      "text/plain": [
       "              Open    High     Low   Close  Adj Close     Volume\n",
       "Date                                                            \n",
       "2021-09-16  2520.0  2550.0  2390.0  2410.0     2410.0  163306000\n",
       "2021-09-17  2370.0  2430.0  2370.0  2400.0     2400.0   61535600\n",
       "2021-09-20  2380.0  2390.0  2330.0  2350.0     2350.0   82487500\n",
       "2021-09-21  2350.0  2370.0  2300.0  2360.0     2360.0   66014000\n",
       "2021-09-22  2370.0  2410.0  2330.0  2340.0     2340.0   88209700"
      ]
     },
     "execution_count": 8,
     "metadata": {},
     "output_type": "execute_result"
    }
   ],
   "source": [
    "data.tail()"
   ]
  },
  {
   "cell_type": "code",
   "execution_count": 9,
   "metadata": {},
   "outputs": [],
   "source": [
    "opn = data[['Open']]\n"
   ]
  },
  {
   "cell_type": "code",
   "execution_count": 10,
   "metadata": {},
   "outputs": [
    {
     "data": {
      "text/plain": [
       "<AxesSubplot:xlabel='Date'>"
      ]
     },
     "execution_count": 10,
     "metadata": {},
     "output_type": "execute_result"
    },
    {
     "data": {
      "image/png": "[encoded data removed]",
      "text/plain": [
       "<Figure size 432x288 with 1 Axes>"
      ]
     },
     "metadata": {
      "needs_background": "light"
     },
     "output_type": "display_data"
    }
   ],
   "source": [
    "opn.plot()"
   ]
  },
  {
   "cell_type": "code",
   "execution_count": 11,
   "metadata": {},
   "outputs": [],
   "source": [
    "\n",
    "import matplotlib.pyplot as plt"
   ]
  },
  {
   "cell_type": "code",
   "execution_count": 12,
   "metadata": {},
   "outputs": [],
   "source": [
    "ds = opn.values\n"
   ]
  },
  {
   "cell_type": "code",
   "execution_count": 13,
   "metadata": {},
   "outputs": [
    {
     "data": {
      "text/plain": [
       "array([[ 665.],\n",
       "       [ 660.],\n",
       "       [ 645.],\n",
       "       ...,\n",
       "       [2380.],\n",
       "       [2350.],\n",
       "       [2370.]])"
      ]
     },
     "execution_count": 13,
     "metadata": {},
     "output_type": "execute_result"
    }
   ],
   "source": [
    "\n",
    "ds"
   ]
  },
  {
   "cell_type": "code",
   "execution_count": 14,
   "metadata": {},
   "outputs": [
    {
     "data": {
      "text/plain": [
       "[<matplotlib.lines.Line2D at 0x2347d41a040>]"
      ]
     },
     "execution_count": 14,
     "metadata": {},
     "output_type": "execute_result"
    },
    {
     "data": {
      "image/png": "[encoded data removed]",
      "text/plain": [
       "<Figure size 432x288 with 1 Axes>"
      ]
     },
     "metadata": {
      "needs_background": "light"
     },
     "output_type": "display_data"
    }
   ],
   "source": [
    "\n",
    "plt.plot(ds)"
   ]
  },
  {
   "cell_type": "code",
   "execution_count": 15,
   "metadata": {},
   "outputs": [],
   "source": [
    "import numpy as np\n",
    "\n",
    "from sklearn.preprocessing import MinMaxScaler"
   ]
  },
  {
   "cell_type": "code",
   "execution_count": 16,
   "metadata": {},
   "outputs": [],
   "source": [
    "\n",
    "#Using MinMaxScaler for normalizing data between 0 & 1\n",
    "normalizer = MinMaxScaler(feature_range=(0,1))\n",
    "ds_scaled = normalizer.fit_transform(np.array(ds).reshape(-1,1))"
   ]
  },
  {
   "cell_type": "code",
   "execution_count": 17,
   "metadata": {},
   "outputs": [
    {
     "data": {
      "text/plain": [
       "(1260, 1260)"
      ]
     },
     "execution_count": 17,
     "metadata": {},
     "output_type": "execute_result"
    }
   ],
   "source": [
    "\n",
    "len(ds_scaled), len(ds)"
   ]
  },
  {
   "cell_type": "code",
   "execution_count": 18,
   "metadata": {},
   "outputs": [],
   "source": [
    "#Defining test and train data sizes\n",
    "train_size = int(len(ds_scaled)*0.70)\n",
    "test_size = len(ds_scaled) - train_size"
   ]
  },
  {
   "cell_type": "code",
   "execution_count": 19,
   "metadata": {},
   "outputs": [
    {
     "data": {
      "text/plain": [
       "(882, 378)"
      ]
     },
     "execution_count": 19,
     "metadata": {},
     "output_type": "execute_result"
    }
   ],
   "source": [
    "train_size,test_size"
   ]
  },
  {
   "cell_type": "code",
   "execution_count": 20,
   "metadata": {},
   "outputs": [],
   "source": [
    "ds_train, ds_test = ds_scaled[0:train_size,:], ds_scaled[train_size:len(ds_scaled),:1]"
   ]
  },
  {
   "cell_type": "code",
   "execution_count": 21,
   "metadata": {},
   "outputs": [
    {
     "data": {
      "text/plain": [
       "(882, 378)"
      ]
     },
     "execution_count": 21,
     "metadata": {},
     "output_type": "execute_result"
    }
   ],
   "source": [
    "len(ds_train), len(ds_test)"
   ]
  },
  {
   "cell_type": "code",
   "execution_count": 22,
   "metadata": {},
   "outputs": [],
   "source": [
    "def create_ds(dataset,step):\n",
    "    Xtrain, Ytrain = [], []\n",
    "    for i in range(len(dataset)-step-1):\n",
    "        a = dataset[i:(i+step), 0]\n",
    "        Xtrain.append(a)\n",
    "        Ytrain.append(dataset[i + step, 0])\n",
    "    return np.array(Xtrain), np.array(Ytrain)"
   ]
  },
  {
   "cell_type": "code",
   "execution_count": 57,
   "metadata": {},
   "outputs": [],
   "source": [
    "\n",
    "#Taking 100 days price as one record for training\n",
    "time_stamp = 100\n",
    "X_train, y_train = create_ds(ds_train,time_stamp)\n",
    "X_test, y_test = create_ds(ds_test,time_stamp)"
   ]
  },
  {
   "cell_type": "code",
   "execution_count": 58,
   "metadata": {},
   "outputs": [
    {
     "data": {
      "text/plain": [
       "((781, 100), (781,))"
      ]
     },
     "execution_count": 58,
     "metadata": {},
     "output_type": "execute_result"
    }
   ],
   "source": [
    "X_train.shape,y_train.shape"
   ]
  },
  {
   "cell_type": "code",
   "execution_count": 59,
   "metadata": {},
   "outputs": [],
   "source": [
    "#Reshaping data to fit into LSTM model\n",
    "X_train = X_train.reshape(X_train.shape[0],X_train.shape[1] , 1)\n",
    "X_test = X_test.reshape(X_test.shape[0],X_test.shape[1] , 1)"
   ]
  },
  {
   "cell_type": "code",
   "execution_count": 60,
   "metadata": {},
   "outputs": [
    {
     "data": {
      "text/plain": [
       "(781, 277)"
      ]
     },
     "execution_count": 60,
     "metadata": {},
     "output_type": "execute_result"
    }
   ],
   "source": [
    "len(X_train), len(X_test)"
   ]
  },
  {
   "cell_type": "code",
   "execution_count": 61,
   "metadata": {},
   "outputs": [],
   "source": [
    "from keras.models import Sequential\n",
    "from keras.layers import Dense, LSTM"
   ]
  },
  {
   "cell_type": "code",
   "execution_count": 62,
   "metadata": {},
   "outputs": [
    {
     "name": "stdout",
     "output_type": "stream",
     "text": [
      "Model: \"sequential_2\"\n",
      "_________________________________________________________________\n",
      "Layer (type)                 Output Shape              Param #   \n",
      "=================================================================\n",
      "lstm_6 (LSTM)                (None, 100, 100)          40800     \n",
      "_________________________________________________________________\n",
      "lstm_7 (LSTM)                (None, 100, 100)          80400     \n",
      "_________________________________________________________________\n",
      "lstm_8 (LSTM)                (None, 100)               80400     \n",
      "_________________________________________________________________\n",
      "dense_2 (Dense)              (None, 1)                 101       \n",
      "=================================================================\n",
      "Total params: 201,701\n",
      "Trainable params: 201,701\n",
      "Non-trainable params: 0\n",
      "_________________________________________________________________\n"
     ]
    }
   ],
   "source": [
    "#Creating LSTM model using keras\n",
    "model = Sequential()\n",
    "model.add(LSTM(units=100,return_sequences=True,input_shape=(X_train.shape[1],1)))\n",
    "model.add(LSTM(units=100,return_sequences=True))\n",
    "model.add(LSTM(units=100))\n",
    "model.add(Dense(units=1,activation='linear'))\n",
    "model.summary()"
   ]
  },
  {
   "cell_type": "code",
   "execution_count": 63,
   "metadata": {},
   "outputs": [
    {
     "name": "stdout",
     "output_type": "stream",
     "text": [
      "Epoch 1/100\n",
      "13/13 [==============================] - 4s 345ms/step - loss: 0.0056 - accuracy: 0.0000e+00 - val_loss: 0.0637 - val_accuracy: 0.0000e+00\n",
      "Epoch 2/100\n",
      "13/13 [==============================] - 3s 261ms/step - loss: 0.0010 - accuracy: 0.0000e+00 - val_loss: 0.0797 - val_accuracy: 0.0000e+00\n",
      "Epoch 3/100\n",
      "13/13 [==============================] - 3s 263ms/step - loss: 6.9036e-04 - accuracy: 0.0000e+00 - val_loss: 0.0624 - val_accuracy: 0.0000e+00\n",
      "Epoch 4/100\n",
      "13/13 [==============================] - 3s 258ms/step - loss: 5.2658e-04 - accuracy: 0.0000e+00 - val_loss: 0.0404 - val_accuracy: 0.0000e+00\n",
      "Epoch 5/100\n",
      "13/13 [==============================] - 3s 261ms/step - loss: 4.1222e-04 - accuracy: 0.0000e+00 - val_loss: 0.0197 - val_accuracy: 0.0036\n",
      "Epoch 6/100\n",
      "13/13 [==============================] - 4s 278ms/step - loss: 3.5009e-04 - accuracy: 0.0000e+00 - val_loss: 0.0078 - val_accuracy: 0.0036\n",
      "Epoch 7/100\n",
      "13/13 [==============================] - 4s 279ms/step - loss: 3.2087e-04 - accuracy: 0.0000e+00 - val_loss: 0.0079 - val_accuracy: 0.0036\n",
      "Epoch 8/100\n",
      "13/13 [==============================] - 4s 320ms/step - loss: 2.9780e-04 - accuracy: 0.0000e+00 - val_loss: 0.0080 - val_accuracy: 0.0036\n",
      "Epoch 9/100\n",
      "13/13 [==============================] - 4s 276ms/step - loss: 2.7900e-04 - accuracy: 0.0000e+00 - val_loss: 0.0072 - val_accuracy: 0.0036\n",
      "Epoch 10/100\n",
      "13/13 [==============================] - 3s 266ms/step - loss: 2.8411e-04 - accuracy: 0.0000e+00 - val_loss: 0.0096 - val_accuracy: 0.0036\n",
      "Epoch 11/100\n",
      "13/13 [==============================] - 4s 285ms/step - loss: 2.5438e-04 - accuracy: 0.0000e+00 - val_loss: 0.0074 - val_accuracy: 0.0036\n",
      "Epoch 12/100\n",
      "13/13 [==============================] - 4s 277ms/step - loss: 2.5829e-04 - accuracy: 0.0000e+00 - val_loss: 0.0062 - val_accuracy: 0.0036\n",
      "Epoch 13/100\n",
      "13/13 [==============================] - 4s 303ms/step - loss: 2.5747e-04 - accuracy: 0.0000e+00 - val_loss: 0.0072 - val_accuracy: 0.0036\n",
      "Epoch 14/100\n",
      "13/13 [==============================] - 5s 347ms/step - loss: 2.2700e-04 - accuracy: 0.0000e+00 - val_loss: 0.0066 - val_accuracy: 0.0036\n",
      "Epoch 15/100\n",
      "13/13 [==============================] - 4s 280ms/step - loss: 2.2650e-04 - accuracy: 0.0000e+00 - val_loss: 0.0063 - val_accuracy: 0.0036\n",
      "Epoch 16/100\n",
      "13/13 [==============================] - 4s 279ms/step - loss: 2.3028e-04 - accuracy: 0.0000e+00 - val_loss: 0.0061 - val_accuracy: 0.0036\n",
      "Epoch 17/100\n",
      "13/13 [==============================] - 4s 281ms/step - loss: 2.4668e-04 - accuracy: 0.0000e+00 - val_loss: 0.0050 - val_accuracy: 0.0036\n",
      "Epoch 18/100\n",
      "13/13 [==============================] - 4s 283ms/step - loss: 3.1308e-04 - accuracy: 0.0000e+00 - val_loss: 0.0050 - val_accuracy: 0.0036\n",
      "Epoch 19/100\n",
      "13/13 [==============================] - 4s 298ms/step - loss: 2.4364e-04 - accuracy: 0.0000e+00 - val_loss: 0.0067 - val_accuracy: 0.0036\n",
      "Epoch 20/100\n",
      "13/13 [==============================] - 5s 373ms/step - loss: 2.1993e-04 - accuracy: 0.0000e+00 - val_loss: 0.0072 - val_accuracy: 0.0036\n",
      "Epoch 21/100\n",
      "13/13 [==============================] - 4s 324ms/step - loss: 2.1339e-04 - accuracy: 0.0000e+00 - val_loss: 0.0056 - val_accuracy: 0.0036\n",
      "Epoch 22/100\n",
      "13/13 [==============================] - 4s 282ms/step - loss: 2.1038e-04 - accuracy: 0.0000e+00 - val_loss: 0.0049 - val_accuracy: 0.0036\n",
      "Epoch 23/100\n",
      "13/13 [==============================] - 4s 281ms/step - loss: 2.1250e-04 - accuracy: 0.0000e+00 - val_loss: 0.0065 - val_accuracy: 0.0036\n",
      "Epoch 24/100\n",
      "13/13 [==============================] - 5s 405ms/step - loss: 2.0139e-04 - accuracy: 0.0000e+00 - val_loss: 0.0048 - val_accuracy: 0.0036\n",
      "Epoch 25/100\n",
      "13/13 [==============================] - 4s 299ms/step - loss: 1.9710e-04 - accuracy: 0.0000e+00 - val_loss: 0.0065 - val_accuracy: 0.0036\n",
      "Epoch 26/100\n",
      "13/13 [==============================] - 5s 351ms/step - loss: 2.0862e-04 - accuracy: 0.0000e+00 - val_loss: 0.0060 - val_accuracy: 0.0036\n",
      "Epoch 27/100\n",
      "13/13 [==============================] - 5s 364ms/step - loss: 1.9361e-04 - accuracy: 0.0000e+00 - val_loss: 0.0051 - val_accuracy: 0.0036\n",
      "Epoch 28/100\n",
      "13/13 [==============================] - 4s 293ms/step - loss: 2.0507e-04 - accuracy: 0.0000e+00 - val_loss: 0.0045 - val_accuracy: 0.0036\n",
      "Epoch 29/100\n",
      "13/13 [==============================] - 5s 353ms/step - loss: 1.9295e-04 - accuracy: 0.0000e+00 - val_loss: 0.0043 - val_accuracy: 0.0036\n",
      "Epoch 30/100\n",
      "13/13 [==============================] - 5s 347ms/step - loss: 1.7903e-04 - accuracy: 0.0000e+00 - val_loss: 0.0048 - val_accuracy: 0.0036\n",
      "Epoch 31/100\n",
      "13/13 [==============================] - 4s 290ms/step - loss: 1.8049e-04 - accuracy: 0.0000e+00 - val_loss: 0.0041 - val_accuracy: 0.0036\n",
      "Epoch 32/100\n",
      "13/13 [==============================] - 4s 289ms/step - loss: 1.7532e-04 - accuracy: 0.0000e+00 - val_loss: 0.0045 - val_accuracy: 0.0036\n",
      "Epoch 33/100\n",
      "13/13 [==============================] - 5s 360ms/step - loss: 1.8757e-04 - accuracy: 0.0000e+00 - val_loss: 0.0041 - val_accuracy: 0.0036\n",
      "Epoch 34/100\n",
      "13/13 [==============================] - 4s 344ms/step - loss: 1.8839e-04 - accuracy: 0.0000e+00 - val_loss: 0.0044 - val_accuracy: 0.0036\n",
      "Epoch 35/100\n",
      "13/13 [==============================] - 4s 287ms/step - loss: 1.9038e-04 - accuracy: 0.0000e+00 - val_loss: 0.0054 - val_accuracy: 0.0036\n",
      "Epoch 36/100\n",
      "13/13 [==============================] - 5s 357ms/step - loss: 1.7327e-04 - accuracy: 0.0000e+00 - val_loss: 0.0037 - val_accuracy: 0.0036\n",
      "Epoch 37/100\n",
      "13/13 [==============================] - 5s 376ms/step - loss: 1.6576e-04 - accuracy: 0.0000e+00 - val_loss: 0.0041 - val_accuracy: 0.0036\n",
      "Epoch 38/100\n",
      "13/13 [==============================] - 5s 378ms/step - loss: 1.6653e-04 - accuracy: 0.0000e+00 - val_loss: 0.0041 - val_accuracy: 0.0036\n",
      "Epoch 39/100\n",
      "13/13 [==============================] - 5s 379ms/step - loss: 1.5979e-04 - accuracy: 0.0000e+00 - val_loss: 0.0034 - val_accuracy: 0.0036\n",
      "Epoch 40/100\n",
      "13/13 [==============================] - 4s 298ms/step - loss: 1.6643e-04 - accuracy: 0.0000e+00 - val_loss: 0.0037 - val_accuracy: 0.0036\n",
      "Epoch 41/100\n",
      "13/13 [==============================] - 4s 274ms/step - loss: 1.8872e-04 - accuracy: 0.0000e+00 - val_loss: 0.0055 - val_accuracy: 0.0036\n",
      "Epoch 42/100\n",
      "13/13 [==============================] - 4s 278ms/step - loss: 1.9172e-04 - accuracy: 0.0000e+00 - val_loss: 0.0039 - val_accuracy: 0.0036\n",
      "Epoch 43/100\n",
      "13/13 [==============================] - 5s 364ms/step - loss: 1.6127e-04 - accuracy: 0.0000e+00 - val_loss: 0.0032 - val_accuracy: 0.0036\n",
      "Epoch 44/100\n",
      "13/13 [==============================] - 5s 362ms/step - loss: 1.5320e-04 - accuracy: 0.0000e+00 - val_loss: 0.0031 - val_accuracy: 0.0036\n",
      "Epoch 45/100\n",
      "13/13 [==============================] - 5s 367ms/step - loss: 1.6979e-04 - accuracy: 0.0000e+00 - val_loss: 0.0033 - val_accuracy: 0.0036\n",
      "Epoch 46/100\n",
      "13/13 [==============================] - 4s 330ms/step - loss: 1.6515e-04 - accuracy: 0.0000e+00 - val_loss: 0.0037 - val_accuracy: 0.0036\n",
      "Epoch 47/100\n",
      "13/13 [==============================] - 4s 316ms/step - loss: 1.4551e-04 - accuracy: 0.0000e+00 - val_loss: 0.0034 - val_accuracy: 0.0036\n",
      "Epoch 48/100\n",
      "13/13 [==============================] - 4s 293ms/step - loss: 1.5875e-04 - accuracy: 0.0000e+00 - val_loss: 0.0036 - val_accuracy: 0.0036\n",
      "Epoch 49/100\n",
      "13/13 [==============================] - 5s 382ms/step - loss: 1.3969e-04 - accuracy: 0.0000e+00 - val_loss: 0.0030 - val_accuracy: 0.0036\n",
      "Epoch 50/100\n",
      "13/13 [==============================] - 4s 286ms/step - loss: 1.3403e-04 - accuracy: 0.0000e+00 - val_loss: 0.0033 - val_accuracy: 0.0036\n",
      "Epoch 51/100\n",
      "13/13 [==============================] - 5s 364ms/step - loss: 1.3274e-04 - accuracy: 0.0000e+00 - val_loss: 0.0025 - val_accuracy: 0.0036\n",
      "Epoch 52/100\n",
      "13/13 [==============================] - 4s 319ms/step - loss: 1.5043e-04 - accuracy: 0.0000e+00 - val_loss: 0.0024 - val_accuracy: 0.0036\n",
      "Epoch 53/100\n",
      "13/13 [==============================] - 3s 268ms/step - loss: 1.3850e-04 - accuracy: 0.0000e+00 - val_loss: 0.0025 - val_accuracy: 0.0036\n",
      "Epoch 54/100\n",
      "13/13 [==============================] - 6s 433ms/step - loss: 1.3011e-04 - accuracy: 0.0000e+00 - val_loss: 0.0028 - val_accuracy: 0.0036\n",
      "Epoch 55/100\n",
      "13/13 [==============================] - 6s 425ms/step - loss: 1.2906e-04 - accuracy: 0.0000e+00 - val_loss: 0.0033 - val_accuracy: 0.0036\n",
      "Epoch 56/100\n",
      "13/13 [==============================] - 5s 346ms/step - loss: 1.3094e-04 - accuracy: 0.0000e+00 - val_loss: 0.0025 - val_accuracy: 0.0036\n",
      "Epoch 57/100\n",
      "13/13 [==============================] - 5s 397ms/step - loss: 1.4071e-04 - accuracy: 0.0000e+00 - val_loss: 0.0024 - val_accuracy: 0.0036\n",
      "Epoch 58/100\n",
      "13/13 [==============================] - 5s 390ms/step - loss: 1.3682e-04 - accuracy: 0.0000e+00 - val_loss: 0.0022 - val_accuracy: 0.0036\n",
      "Epoch 59/100\n",
      "13/13 [==============================] - 4s 337ms/step - loss: 1.2901e-04 - accuracy: 0.0000e+00 - val_loss: 0.0023 - val_accuracy: 0.0036\n",
      "Epoch 60/100\n",
      "13/13 [==============================] - 4s 333ms/step - loss: 1.2255e-04 - accuracy: 0.0000e+00 - val_loss: 0.0025 - val_accuracy: 0.0036\n",
      "Epoch 61/100\n",
      "13/13 [==============================] - 6s 448ms/step - loss: 1.3003e-04 - accuracy: 0.0000e+00 - val_loss: 0.0022 - val_accuracy: 0.0036\n",
      "Epoch 62/100\n",
      "13/13 [==============================] - 4s 305ms/step - loss: 1.1159e-04 - accuracy: 0.0000e+00 - val_loss: 0.0024 - val_accuracy: 0.0036\n",
      "Epoch 63/100\n",
      "13/13 [==============================] - 5s 387ms/step - loss: 1.1067e-04 - accuracy: 0.0000e+00 - val_loss: 0.0029 - val_accuracy: 0.0036\n",
      "Epoch 64/100\n",
      "13/13 [==============================] - 4s 303ms/step - loss: 1.1986e-04 - accuracy: 0.0000e+00 - val_loss: 0.0038 - val_accuracy: 0.0036\n",
      "Epoch 65/100\n",
      "13/13 [==============================] - 4s 344ms/step - loss: 1.4308e-04 - accuracy: 0.0000e+00 - val_loss: 0.0027 - val_accuracy: 0.0036\n",
      "Epoch 66/100\n",
      "13/13 [==============================] - 5s 365ms/step - loss: 1.2221e-04 - accuracy: 0.0000e+00 - val_loss: 0.0018 - val_accuracy: 0.0036\n",
      "Epoch 67/100\n",
      "13/13 [==============================] - 4s 293ms/step - loss: 1.1932e-04 - accuracy: 0.0000e+00 - val_loss: 0.0017 - val_accuracy: 0.0036\n",
      "Epoch 68/100\n",
      "13/13 [==============================] - 5s 400ms/step - loss: 1.1437e-04 - accuracy: 0.0000e+00 - val_loss: 0.0027 - val_accuracy: 0.0036\n",
      "Epoch 69/100\n",
      "13/13 [==============================] - 5s 352ms/step - loss: 1.1102e-04 - accuracy: 0.0000e+00 - val_loss: 0.0024 - val_accuracy: 0.0036\n",
      "Epoch 70/100\n",
      "13/13 [==============================] - 5s 346ms/step - loss: 1.0006e-04 - accuracy: 0.0000e+00 - val_loss: 0.0033 - val_accuracy: 0.0036\n",
      "Epoch 71/100\n",
      "13/13 [==============================] - 5s 378ms/step - loss: 1.0619e-04 - accuracy: 0.0000e+00 - val_loss: 0.0029 - val_accuracy: 0.0036\n",
      "Epoch 72/100\n",
      "13/13 [==============================] - 3s 263ms/step - loss: 9.8019e-05 - accuracy: 0.0000e+00 - val_loss: 0.0022 - val_accuracy: 0.0036\n",
      "Epoch 73/100\n",
      "13/13 [==============================] - 4s 296ms/step - loss: 9.5602e-05 - accuracy: 0.0000e+00 - val_loss: 0.0026 - val_accuracy: 0.0036\n",
      "Epoch 74/100\n",
      "13/13 [==============================] - 5s 367ms/step - loss: 1.0814e-04 - accuracy: 0.0000e+00 - val_loss: 0.0017 - val_accuracy: 0.0036\n",
      "Epoch 75/100\n",
      "13/13 [==============================] - 4s 299ms/step - loss: 9.2548e-05 - accuracy: 0.0000e+00 - val_loss: 0.0020 - val_accuracy: 0.0036\n",
      "Epoch 76/100\n",
      "13/13 [==============================] - 4s 285ms/step - loss: 9.5943e-05 - accuracy: 0.0000e+00 - val_loss: 0.0018 - val_accuracy: 0.0036\n",
      "Epoch 77/100\n",
      "13/13 [==============================] - 4s 305ms/step - loss: 9.7322e-05 - accuracy: 0.0000e+00 - val_loss: 0.0027 - val_accuracy: 0.0036\n",
      "Epoch 78/100\n",
      "13/13 [==============================] - 5s 346ms/step - loss: 9.2861e-05 - accuracy: 0.0000e+00 - val_loss: 0.0022 - val_accuracy: 0.0036\n",
      "Epoch 79/100\n",
      "13/13 [==============================] - 5s 369ms/step - loss: 9.2631e-05 - accuracy: 0.0000e+00 - val_loss: 0.0019 - val_accuracy: 0.0036\n",
      "Epoch 80/100\n",
      "13/13 [==============================] - 4s 284ms/step - loss: 8.6352e-05 - accuracy: 0.0000e+00 - val_loss: 0.0023 - val_accuracy: 0.0036\n",
      "Epoch 81/100\n",
      "13/13 [==============================] - 4s 307ms/step - loss: 8.3296e-05 - accuracy: 0.0000e+00 - val_loss: 0.0019 - val_accuracy: 0.0036\n",
      "Epoch 82/100\n",
      "13/13 [==============================] - 5s 368ms/step - loss: 8.7599e-05 - accuracy: 0.0000e+00 - val_loss: 0.0023 - val_accuracy: 0.0036\n",
      "Epoch 83/100\n",
      "13/13 [==============================] - 5s 351ms/step - loss: 8.2565e-05 - accuracy: 0.0000e+00 - val_loss: 0.0024 - val_accuracy: 0.0036\n",
      "Epoch 84/100\n",
      "13/13 [==============================] - 5s 353ms/step - loss: 8.1634e-05 - accuracy: 0.0000e+00 - val_loss: 0.0017 - val_accuracy: 0.0036\n",
      "Epoch 85/100\n",
      "13/13 [==============================] - 4s 281ms/step - loss: 7.9822e-05 - accuracy: 0.0000e+00 - val_loss: 0.0031 - val_accuracy: 0.0036\n",
      "Epoch 86/100\n",
      "13/13 [==============================] - 4s 303ms/step - loss: 8.9915e-05 - accuracy: 0.0000e+00 - val_loss: 0.0026 - val_accuracy: 0.0036\n",
      "Epoch 87/100\n",
      "13/13 [==============================] - 4s 327ms/step - loss: 8.9878e-05 - accuracy: 0.0000e+00 - val_loss: 0.0016 - val_accuracy: 0.0036\n",
      "Epoch 88/100\n",
      "13/13 [==============================] - 5s 364ms/step - loss: 9.4603e-05 - accuracy: 0.0000e+00 - val_loss: 0.0015 - val_accuracy: 0.0036\n",
      "Epoch 89/100\n",
      "13/13 [==============================] - 4s 310ms/step - loss: 8.9148e-05 - accuracy: 0.0000e+00 - val_loss: 0.0020 - val_accuracy: 0.0036\n",
      "Epoch 90/100\n",
      "13/13 [==============================] - 5s 350ms/step - loss: 8.8290e-05 - accuracy: 0.0000e+00 - val_loss: 0.0017 - val_accuracy: 0.0036\n",
      "Epoch 91/100\n",
      "13/13 [==============================] - 6s 445ms/step - loss: 8.6222e-05 - accuracy: 0.0000e+00 - val_loss: 0.0018 - val_accuracy: 0.0036\n",
      "Epoch 92/100\n",
      "13/13 [==============================] - 4s 288ms/step - loss: 9.7633e-05 - accuracy: 0.0000e+00 - val_loss: 0.0017 - val_accuracy: 0.0036\n",
      "Epoch 93/100\n",
      "13/13 [==============================] - 5s 375ms/step - loss: 7.4070e-05 - accuracy: 0.0000e+00 - val_loss: 0.0021 - val_accuracy: 0.0036\n",
      "Epoch 94/100\n",
      "13/13 [==============================] - 4s 333ms/step - loss: 7.3540e-05 - accuracy: 0.0000e+00 - val_loss: 0.0015 - val_accuracy: 0.0036\n",
      "Epoch 95/100\n",
      "13/13 [==============================] - 4s 286ms/step - loss: 7.3182e-05 - accuracy: 0.0000e+00 - val_loss: 0.0026 - val_accuracy: 0.0036\n",
      "Epoch 96/100\n",
      "13/13 [==============================] - 5s 398ms/step - loss: 7.6372e-05 - accuracy: 0.0000e+00 - val_loss: 0.0019 - val_accuracy: 0.0036\n",
      "Epoch 97/100\n",
      "13/13 [==============================] - 4s 280ms/step - loss: 7.0338e-05 - accuracy: 0.0000e+00 - val_loss: 0.0020 - val_accuracy: 0.0036\n",
      "Epoch 98/100\n",
      "13/13 [==============================] - 4s 340ms/step - loss: 7.0673e-05 - accuracy: 0.0000e+00 - val_loss: 0.0019 - val_accuracy: 0.0036\n",
      "Epoch 99/100\n",
      "13/13 [==============================] - 4s 319ms/step - loss: 7.0961e-05 - accuracy: 0.0000e+00 - val_loss: 0.0017 - val_accuracy: 0.0036\n",
      "Epoch 100/100\n",
      "13/13 [==============================] - 4s 339ms/step - loss: 7.4556e-05 - accuracy: 0.0000e+00 - val_loss: 0.0022 - val_accuracy: 0.0036\n"
     ]
    },
    {
     "data": {
      "text/plain": [
       "<tensorflow.python.keras.callbacks.History at 0x2344bd432e0>"
      ]
     },
     "execution_count": 63,
     "metadata": {},
     "output_type": "execute_result"
    }
   ],
   "source": [
    "#Training model with adam optimizer and mean squared error loss function\n",
    "model.compile(loss='mse',optimizer='adam',metrics=['accuracy'])\n",
    "model.fit(X_train,y_train,validation_data=(X_test,y_test),epochs=100,batch_size=64)"
   ]
  },
  {
   "cell_type": "code",
   "execution_count": 64,
   "metadata": {},
   "outputs": [
    {
     "data": {
      "text/plain": [
       "[<matplotlib.lines.Line2D at 0x23454925f10>]"
      ]
     },
     "execution_count": 64,
     "metadata": {},
     "output_type": "execute_result"
    },
    {
     "data": {
      "image/png": "[encoded data removed]",
      "text/plain": [
       "<Figure size 432x288 with 1 Axes>"
      ]
     },
     "metadata": {
      "needs_background": "light"
     },
     "output_type": "display_data"
    }
   ],
   "source": [
    "#PLotting loss, it shows that loss has decreased significantly and model trained well\n",
    "loss = model.history.history['loss']\n",
    "plt.plot(loss)"
   ]
  },
  {
   "cell_type": "code",
   "execution_count": 65,
   "metadata": {},
   "outputs": [],
   "source": [
    "train_predict = model.predict(X_train)\n",
    "test_predict = model.predict(X_test)"
   ]
  },
  {
   "cell_type": "code",
   "execution_count": 66,
   "metadata": {},
   "outputs": [
    {
     "data": {
      "text/plain": [
       "(277, 781)"
      ]
     },
     "execution_count": 66,
     "metadata": {},
     "output_type": "execute_result"
    }
   ],
   "source": [
    "len(test_predict), len(train_predict)"
   ]
  },
  {
   "cell_type": "code",
   "execution_count": 67,
   "metadata": {},
   "outputs": [],
   "source": [
    "#Inverse transform to get actual value\n",
    "train_predict = normalizer.inverse_transform(train_predict)\n",
    "test_predict = normalizer.inverse_transform(test_predict)"
   ]
  },
  {
   "cell_type": "code",
   "execution_count": 98,
   "metadata": {},
   "outputs": [
    {
     "data": {
      "text/plain": [
       "<matplotlib.legend.Legend at 0x23455eaa130>"
      ]
     },
     "execution_count": 98,
     "metadata": {},
     "output_type": "execute_result"
    },
    {
     "data": {
      "image/png": "[encoded data removed]",
      "text/plain": [
       "<Figure size 432x288 with 1 Axes>"
      ]
     },
     "metadata": {
      "needs_background": "light"
     },
     "output_type": "display_data"
    }
   ],
   "source": [
    "#Comparing using visuals\n",
    "\n",
    "plt.plot(normalizer.inverse_transform(ds_scaled))\n",
    "plt.plot(train_predict)\n",
    "plt.plot(test_predict)\n",
    "plt.ylabel(\"Price\")\n",
    "plt.xlabel(\"Days\")\n",
    "\n",
    "plt.legend(['Test Predict', 'Train Predict','Real Data'])"
   ]
  },
  {
   "cell_type": "code",
   "execution_count": 94,
   "metadata": {},
   "outputs": [
    {
     "data": {
      "text/plain": [
       "(1260, 781, 277)"
      ]
     },
     "execution_count": 94,
     "metadata": {},
     "output_type": "execute_result"
    }
   ],
   "source": [
    "len(ds_scaled), len(train_predict), len(test_predict)"
   ]
  },
  {
   "cell_type": "code",
   "execution_count": 69,
   "metadata": {},
   "outputs": [
    {
     "data": {
      "text/plain": [
       "numpy.ndarray"
      ]
     },
     "execution_count": 69,
     "metadata": {},
     "output_type": "execute_result"
    }
   ],
   "source": [
    "type(train_predict)"
   ]
  },
  {
   "cell_type": "code",
   "execution_count": 70,
   "metadata": {},
   "outputs": [],
   "source": [
    "test = np.vstack((train_predict,test_predict))"
   ]
  },
  {
   "cell_type": "code",
   "execution_count": 71,
   "metadata": {},
   "outputs": [
    {
     "data": {
      "text/plain": [
       "[<matplotlib.lines.Line2D at 0x23454c23be0>]"
      ]
     },
     "execution_count": 71,
     "metadata": {},
     "output_type": "execute_result"
    },
    {
     "data": {
      "image/png": "[encoded data removed]",
      "text/plain": [
       "<Figure size 432x288 with 1 Axes>"
      ]
     },
     "metadata": {
      "needs_background": "light"
     },
     "output_type": "display_data"
    }
   ],
   "source": [
    "plt.plot(normalizer.inverse_transform(ds_scaled))\n",
    "plt.plot(test)"
   ]
  },
  {
   "cell_type": "code",
   "execution_count": 72,
   "metadata": {},
   "outputs": [
    {
     "data": {
      "text/plain": [
       "378"
      ]
     },
     "execution_count": 72,
     "metadata": {},
     "output_type": "execute_result"
    }
   ],
   "source": [
    "len(ds_test)"
   ]
  },
  {
   "cell_type": "code",
   "execution_count": 73,
   "metadata": {},
   "outputs": [],
   "source": [
    "#Getting the last 100 days records\n",
    "fut_inp = ds_test[278:]"
   ]
  },
  {
   "cell_type": "code",
   "execution_count": 74,
   "metadata": {},
   "outputs": [],
   "source": [
    "fut_inp = fut_inp.reshape(1,-1)"
   ]
  },
  {
   "cell_type": "code",
   "execution_count": 75,
   "metadata": {},
   "outputs": [],
   "source": [
    "tmp_inp = list(fut_inp)"
   ]
  },
  {
   "cell_type": "code",
   "execution_count": 76,
   "metadata": {},
   "outputs": [
    {
     "data": {
      "text/plain": [
       "(1, 100)"
      ]
     },
     "execution_count": 76,
     "metadata": {},
     "output_type": "execute_result"
    }
   ],
   "source": [
    "fut_inp.shape"
   ]
  },
  {
   "cell_type": "code",
   "execution_count": 77,
   "metadata": {},
   "outputs": [],
   "source": [
    "#Creating list of the last 100 data\n",
    "tmp_inp = tmp_inp[0].tolist()"
   ]
  },
  {
   "cell_type": "code",
   "execution_count": 78,
   "metadata": {},
   "outputs": [
    {
     "name": "stdout",
     "output_type": "stream",
     "text": [
      "[[0.64678555727005], [0.6280900835990906], [0.6032775044441223], [0.5778340697288513], [0.5531067252159119], [0.5297800302505493], [0.5081429481506348], [0.48811793327331543], [0.46936607360839844], [0.45142170786857605], [0.43381771445274353], [0.41617903113365173], [0.39827653765678406], [0.3800416886806488], [0.3615480065345764], [0.3429720401763916], [0.32454466819763184], [0.3065027892589569], [0.28905239701271057], [0.2723446786403656], [0.2564677894115448], [0.24145016074180603], [0.22727327048778534], [0.2138872891664505], [0.20122765004634857], [0.18922841548919678], [0.1778322011232376], [0.1669950634241104], [0.15668831765651703], [0.146896630525589]]\n"
     ]
    }
   ],
   "source": [
    "#Predicting next 30 days price suing the current data\n",
    "#It will predict in sliding window manner (algorithm) with stride 1\n",
    "lst_output=[]\n",
    "n_steps=100\n",
    "i=0\n",
    "while(i<30):\n",
    "    \n",
    "    if(len(tmp_inp)>100):\n",
    "        fut_inp = np.array(tmp_inp[1:])\n",
    "        fut_inp=fut_inp.reshape(1,-1)\n",
    "        fut_inp = fut_inp.reshape((1, n_steps, 1))\n",
    "        yhat = model.predict(fut_inp, verbose=0)\n",
    "        tmp_inp.extend(yhat[0].tolist())\n",
    "        tmp_inp = tmp_inp[1:]\n",
    "        lst_output.extend(yhat.tolist())\n",
    "        i=i+1\n",
    "    else:\n",
    "        fut_inp = fut_inp.reshape((1, n_steps,1))\n",
    "        yhat = model.predict(fut_inp, verbose=0)\n",
    "        tmp_inp.extend(yhat[0].tolist())\n",
    "        lst_output.extend(yhat.tolist())\n",
    "        i=i+1\n",
    "    \n",
    "\n",
    "print(lst_output)"
   ]
  },
  {
   "cell_type": "code",
   "execution_count": 79,
   "metadata": {},
   "outputs": [
    {
     "data": {
      "text/plain": [
       "1260"
      ]
     },
     "execution_count": 79,
     "metadata": {},
     "output_type": "execute_result"
    }
   ],
   "source": [
    "len(ds_scaled)"
   ]
  },
  {
   "cell_type": "code",
   "execution_count": 80,
   "metadata": {},
   "outputs": [],
   "source": [
    "#Creating a dummy plane to plot graph one after another\n",
    "plot_new=np.arange(1,101)\n",
    "plot_pred=np.arange(101,131)"
   ]
  },
  {
   "cell_type": "code",
   "execution_count": 81,
   "metadata": {},
   "outputs": [
    {
     "data": {
      "text/plain": [
       "[<matplotlib.lines.Line2D at 0x23454cbad90>]"
      ]
     },
     "execution_count": 81,
     "metadata": {},
     "output_type": "execute_result"
    },
    {
     "data": {
      "image/png": "[encoded data removed]",
      "text/plain": [
       "<Figure size 432x288 with 1 Axes>"
      ]
     },
     "metadata": {
      "needs_background": "light"
     },
     "output_type": "display_data"
    }
   ],
   "source": [
    "\n",
    "plt.plot(plot_new, normalizer.inverse_transform(ds_scaled[1160:]))\n",
    "plt.plot(plot_pred, normalizer.inverse_transform(lst_output))"
   ]
  },
  {
   "cell_type": "code",
   "execution_count": 82,
   "metadata": {},
   "outputs": [],
   "source": [
    "ds_new = ds_scaled.tolist()"
   ]
  },
  {
   "cell_type": "code",
   "execution_count": 83,
   "metadata": {},
   "outputs": [
    {
     "data": {
      "text/plain": [
       "1260"
      ]
     },
     "execution_count": 83,
     "metadata": {},
     "output_type": "execute_result"
    }
   ],
   "source": [
    "len(ds_new)"
   ]
  },
  {
   "cell_type": "code",
   "execution_count": 84,
   "metadata": {},
   "outputs": [
    {
     "data": {
      "text/plain": [
       "[<matplotlib.lines.Line2D at 0x23454cf5190>]"
      ]
     },
     "execution_count": 84,
     "metadata": {},
     "output_type": "execute_result"
    },
    {
     "data": {
      "image/png": "[encoded data removed]",
      "text/plain": [
       "<Figure size 432x288 with 1 Axes>"
      ]
     },
     "metadata": {
      "needs_background": "light"
     },
     "output_type": "display_data"
    }
   ],
   "source": [
    "#Entends helps us to fill the missing value with approx value\n",
    "ds_new.extend(lst_output)\n",
    "plt.plot(ds_new[1200:])"
   ]
  },
  {
   "cell_type": "code",
   "execution_count": 85,
   "metadata": {},
   "outputs": [],
   "source": [
    "final_graph = normalizer.inverse_transform(ds_new).tolist()"
   ]
  },
  {
   "cell_type": "code",
   "execution_count": 86,
   "metadata": {},
   "outputs": [
    {
     "data": {
      "text/plain": [
       "<matplotlib.legend.Legend at 0x23454c6faf0>"
      ]
     },
     "execution_count": 86,
     "metadata": {},
     "output_type": "execute_result"
    },
    {
     "data": {
      "image/png": "[encoded data removed]",
      "text/plain": [
       "<Figure size 432x288 with 1 Axes>"
      ]
     },
     "metadata": {
      "needs_background": "light"
     },
     "output_type": "display_data"
    }
   ],
   "source": [
    "#Plotting final results with predicted value after 30 Days\n",
    "plt.plot(final_graph,)\n",
    "plt.ylabel(\"Price\")\n",
    "plt.xlabel(\"Time\")\n",
    "plt.title(\"{0} prediction of next month open\".format(stock_symbol))\n",
    "plt.axhline(y=final_graph[len(final_graph)-1], color = 'red', linestyle = ':', label = 'NEXT 30D: {0}'.format(round(float(*final_graph[len(final_graph)-1]),2)))\n",
    "plt.legend()\n"
   ]
  },
  {
   "cell_type": "code",
   "execution_count": 87,
   "metadata": {},
   "outputs": [
    {
     "data": {
      "text/plain": [
       "[[665.0],\n",
       " [660.0],\n",
       " [645.0],\n",
       " [785.0],\n",
       " [810.0000000000001],\n",
       " [825.0],\n",
       " [830.0],\n",
       " [810.0000000000001],\n",
       " [825.0],\n",
       " [799.9999999999999],\n",
       " [794.9999999999999],\n",
       " [805.0000000000001],\n",
       " [799.9999999999999],\n",
       " [825.0],\n",
       " [845.0],\n",
       " [830.0],\n",
       " [830.0],\n",
       " [840.0],\n",
       " [830.0],\n",
       " [830.0],\n",
       " [810.0000000000001],\n",
       " [820.0],\n",
       " [840.0],\n",
       " [835.0],\n",
       " [840.0],\n",
       " [880.0],\n",
       " [870.0000000000001],\n",
       " [895.0],\n",
       " [900.0],\n",
       " [895.0],\n",
       " [890.0],\n",
       " [914.9999999999999],\n",
       " [914.9999999999999],\n",
       " [914.9999999999999],\n",
       " [900.0],\n",
       " [885.0],\n",
       " [900.0],\n",
       " [885.0],\n",
       " [890.0],\n",
       " [880.0],\n",
       " [905.0],\n",
       " [900.0],\n",
       " [905.0],\n",
       " [914.9999999999999],\n",
       " [979.9999999999999],\n",
       " [970.0],\n",
       " [970.0],\n",
       " [990.0000000000001],\n",
       " [974.9999999999999],\n",
       " [965.0],\n",
       " [940.0],\n",
       " [965.0],\n",
       " [970.0],\n",
       " [965.0],\n",
       " [965.0],\n",
       " [945.0],\n",
       " [940.0],\n",
       " [900.0],\n",
       " [875.0],\n",
       " [905.0],\n",
       " [885.0],\n",
       " [870.0000000000001],\n",
       " [859.9999999999999],\n",
       " [885.0],\n",
       " [859.9999999999999],\n",
       " [854.9999999999999],\n",
       " [859.9999999999999],\n",
       " [890.0],\n",
       " [905.0],\n",
       " [895.0],\n",
       " [895.0],\n",
       " [885.0],\n",
       " [875.0],\n",
       " [880.0],\n",
       " [870.0000000000001],\n",
       " [854.9999999999999],\n",
       " [875.0],\n",
       " [870.0000000000001],\n",
       " [885.0],\n",
       " [919.9999999999999],\n",
       " [910.0],\n",
       " [895.0],\n",
       " [895.0],\n",
       " [905.0],\n",
       " [885.0],\n",
       " [865.0000000000001],\n",
       " [820.0],\n",
       " [810.0000000000001],\n",
       " [799.9999999999999],\n",
       " [805.0000000000001],\n",
       " [799.9999999999999],\n",
       " [810.0000000000001],\n",
       " [815.0],\n",
       " [850.0],\n",
       " [830.0],\n",
       " [815.0],\n",
       " [810.0000000000001],\n",
       " [805.0000000000001],\n",
       " [805.0000000000001],\n",
       " [820.0],\n",
       " [815.0],\n",
       " [799.9999999999999],\n",
       " [805.0000000000001],\n",
       " [805.0000000000001],\n",
       " [794.9999999999999],\n",
       " [785.0],\n",
       " [790.0],\n",
       " [790.0],\n",
       " [785.0],\n",
       " [770.0],\n",
       " [739.9999999999999],\n",
       " [760.0],\n",
       " [760.0],\n",
       " [770.0],\n",
       " [755.0],\n",
       " [760.0],\n",
       " [745.0000000000001],\n",
       " [735.0],\n",
       " [739.9999999999999],\n",
       " [730.0],\n",
       " [730.0],\n",
       " [705.0],\n",
       " [700.0],\n",
       " [720.0],\n",
       " [770.0],\n",
       " [765.0],\n",
       " [745.0000000000001],\n",
       " [739.9999999999999],\n",
       " [750.0000000000001],\n",
       " [720.0],\n",
       " [730.0],\n",
       " [725.0],\n",
       " [725.0],\n",
       " [735.0],\n",
       " [720.0],\n",
       " [720.0],\n",
       " [720.0],\n",
       " [710.0],\n",
       " [715.0],\n",
       " [710.0],\n",
       " [705.0],\n",
       " [730.0],\n",
       " [735.0],\n",
       " [720.0],\n",
       " [710.0],\n",
       " [710.0],\n",
       " [700.0],\n",
       " [700.0],\n",
       " [700.0],\n",
       " [700.0],\n",
       " [695.0],\n",
       " [705.0],\n",
       " [685.0],\n",
       " [670.0],\n",
       " [640.0],\n",
       " [630.0],\n",
       " [645.0],\n",
       " [630.0],\n",
       " [625.0],\n",
       " [620.0],\n",
       " [615.0],\n",
       " [705.0],\n",
       " [690.0],\n",
       " [695.0],\n",
       " [710.0],\n",
       " [700.0],\n",
       " [705.0],\n",
       " [700.0],\n",
       " [700.0],\n",
       " [755.0],\n",
       " [739.9999999999999],\n",
       " [775.0],\n",
       " [780.0],\n",
       " [770.0],\n",
       " [725.0],\n",
       " [725.0],\n",
       " [720.0],\n",
       " [720.0],\n",
       " [715.0],\n",
       " [705.0],\n",
       " [730.0],\n",
       " [739.9999999999999],\n",
       " [725.0],\n",
       " [720.0],\n",
       " [715.0],\n",
       " [715.0],\n",
       " [705.0],\n",
       " [695.0],\n",
       " [695.0],\n",
       " [695.0],\n",
       " [695.0],\n",
       " [695.0],\n",
       " [695.0],\n",
       " [705.0],\n",
       " [700.0],\n",
       " [705.0],\n",
       " [700.0],\n",
       " [695.0],\n",
       " [710.0],\n",
       " [710.0],\n",
       " [700.0],\n",
       " [705.0],\n",
       " [705.0],\n",
       " [705.0],\n",
       " [720.0],\n",
       " [725.0],\n",
       " [725.0],\n",
       " [720.0],\n",
       " [715.0],\n",
       " [700.0],\n",
       " [710.0],\n",
       " [725.0],\n",
       " [715.0],\n",
       " [695.0],\n",
       " [700.0],\n",
       " [685.0],\n",
       " [690.0],\n",
       " [680.0],\n",
       " [660.0],\n",
       " [650.0],\n",
       " [680.0],\n",
       " [700.0],\n",
       " [700.0],\n",
       " [695.0],\n",
       " [690.0],\n",
       " [680.0],\n",
       " [680.0],\n",
       " [680.0],\n",
       " [690.0],\n",
       " [720.0],\n",
       " [730.0],\n",
       " [725.0],\n",
       " [739.9999999999999],\n",
       " [715.0],\n",
       " [725.0],\n",
       " [735.0],\n",
       " [760.0],\n",
       " [739.9999999999999],\n",
       " [739.9999999999999],\n",
       " [710.0],\n",
       " [710.0],\n",
       " [715.0],\n",
       " [700.0],\n",
       " [695.0],\n",
       " [695.0],\n",
       " [680.0],\n",
       " [670.0],\n",
       " [690.0],\n",
       " [685.0],\n",
       " [680.0],\n",
       " [675.0],\n",
       " [680.0],\n",
       " [675.0],\n",
       " [680.0],\n",
       " [655.0],\n",
       " [645.0],\n",
       " [625.0],\n",
       " [635.0],\n",
       " [640.0],\n",
       " [650.0],\n",
       " [655.0],\n",
       " [650.0],\n",
       " [645.0],\n",
       " [650.0],\n",
       " [655.0],\n",
       " [660.0],\n",
       " [645.0],\n",
       " [650.0],\n",
       " [655.0],\n",
       " [660.0],\n",
       " [650.0],\n",
       " [660.0],\n",
       " [660.0],\n",
       " [660.0],\n",
       " [645.0],\n",
       " [650.0],\n",
       " [650.0],\n",
       " [655.0],\n",
       " [650.0],\n",
       " [650.0],\n",
       " [655.0],\n",
       " [720.0],\n",
       " [670.0],\n",
       " [670.0],\n",
       " [675.0],\n",
       " [700.0],\n",
       " [715.0],\n",
       " [705.0],\n",
       " [705.0],\n",
       " [695.0],\n",
       " [675.0],\n",
       " [660.0],\n",
       " [660.0],\n",
       " [665.0],\n",
       " [665.0],\n",
       " [665.0],\n",
       " [665.0],\n",
       " [660.0],\n",
       " [660.0],\n",
       " [655.0],\n",
       " [650.0],\n",
       " [665.0],\n",
       " [665.0],\n",
       " [655.0],\n",
       " [655.0],\n",
       " [630.0],\n",
       " [610.0],\n",
       " [605.0],\n",
       " [625.0],\n",
       " [605.0],\n",
       " [605.0],\n",
       " [620.0],\n",
       " [635.0],\n",
       " [640.0],\n",
       " [640.0],\n",
       " [645.0],\n",
       " [630.0],\n",
       " [630.0],\n",
       " [630.0],\n",
       " [630.0],\n",
       " [635.0],\n",
       " [635.0],\n",
       " [625.0],\n",
       " [625.0],\n",
       " [635.0],\n",
       " [635.0],\n",
       " [635.0],\n",
       " [645.0],\n",
       " [660.0],\n",
       " [655.0],\n",
       " [655.0],\n",
       " [655.0],\n",
       " [650.0],\n",
       " [670.0],\n",
       " [665.0],\n",
       " [705.0],\n",
       " [750.0000000000001],\n",
       " [745.0000000000001],\n",
       " [765.0],\n",
       " [780.0],\n",
       " [805.0000000000001],\n",
       " [810.0000000000001],\n",
       " [859.9999999999999],\n",
       " [875.0],\n",
       " [919.9999999999999],\n",
       " [900.0],\n",
       " [919.9999999999999],\n",
       " [919.9999999999999],\n",
       " [880.0],\n",
       " [845.0],\n",
       " [865.0000000000001],\n",
       " [870.0000000000001],\n",
       " [835.0],\n",
       " [840.0],\n",
       " [870.0000000000001],\n",
       " [885.0],\n",
       " [910.0],\n",
       " [910.0],\n",
       " [910.0],\n",
       " [910.0],\n",
       " [895.0],\n",
       " [905.0],\n",
       " [910.0],\n",
       " [895.0],\n",
       " [905.0],\n",
       " [945.0],\n",
       " [955.0],\n",
       " [925.0000000000001],\n",
       " [919.9999999999999],\n",
       " [919.9999999999999],\n",
       " [905.0],\n",
       " [885.0],\n",
       " [870.0000000000001],\n",
       " [880.0],\n",
       " [900.0],\n",
       " [880.0],\n",
       " [865.0000000000001],\n",
       " [859.9999999999999],\n",
       " [845.0],\n",
       " [810.0000000000001],\n",
       " [805.0000000000001],\n",
       " [835.0],\n",
       " [794.9999999999999],\n",
       " [799.9999999999999],\n",
       " [799.9999999999999],\n",
       " [765.0],\n",
       " [770.0],\n",
       " [775.0],\n",
       " [785.0],\n",
       " [790.0],\n",
       " [810.0000000000001],\n",
       " [799.9999999999999],\n",
       " [794.9999999999999],\n",
       " [805.0000000000001],\n",
       " [854.9999999999999],\n",
       " [850.0],\n",
       " [880.0],\n",
       " [875.0],\n",
       " [880.0],\n",
       " [880.0],\n",
       " [870.0000000000001],\n",
       " [885.0],\n",
       " [885.0],\n",
       " [900.0],\n",
       " [885.0],\n",
       " [859.9999999999999],\n",
       " [859.9999999999999],\n",
       " [859.9999999999999],\n",
       " [825.0],\n",
       " [845.0],\n",
       " [845.0],\n",
       " [859.9999999999999],\n",
       " [840.0],\n",
       " [830.0],\n",
       " [815.0],\n",
       " [799.9999999999999],\n",
       " [805.0000000000001],\n",
       " [815.0],\n",
       " [805.0000000000001],\n",
       " [825.0],\n",
       " [815.0],\n",
       " [815.0],\n",
       " [835.0],\n",
       " [859.9999999999999],\n",
       " [880.0],\n",
       " [840.0],\n",
       " [845.0],\n",
       " [890.0],\n",
       " [870.0000000000001],\n",
       " [854.9999999999999],\n",
       " [850.0],\n",
       " [859.9999999999999],\n",
       " [865.0000000000001],\n",
       " [895.0],\n",
       " [880.0],\n",
       " [895.0],\n",
       " [1005.0],\n",
       " [945.0],\n",
       " [905.0],\n",
       " [905.0],\n",
       " [905.0],\n",
       " [905.0],\n",
       " [905.0],\n",
       " [905.0],\n",
       " [905.0],\n",
       " [890.0],\n",
       " [880.0],\n",
       " [900.0],\n",
       " [925.0000000000001],\n",
       " [880.0],\n",
       " [875.0],\n",
       " [840.0],\n",
       " [850.0],\n",
       " [880.0],\n",
       " [830.0],\n",
       " [794.9999999999999],\n",
       " [805.0000000000001],\n",
       " [799.9999999999999],\n",
       " [790.0],\n",
       " [810.0000000000001],\n",
       " [799.9999999999999],\n",
       " [850.0],\n",
       " [880.0],\n",
       " [914.9999999999999],\n",
       " [905.0],\n",
       " [885.0],\n",
       " [895.0],\n",
       " [870.0000000000001],\n",
       " [875.0],\n",
       " [885.0],\n",
       " [895.0],\n",
       " [890.0],\n",
       " [895.0],\n",
       " [895.0],\n",
       " [955.0],\n",
       " [925.0000000000001],\n",
       " [925.0000000000001],\n",
       " [919.9999999999999],\n",
       " [905.0],\n",
       " [945.0],\n",
       " [935.0],\n",
       " [925.0000000000001],\n",
       " [914.9999999999999],\n",
       " [890.0],\n",
       " [850.0],\n",
       " [835.0],\n",
       " [845.0],\n",
       " [830.0],\n",
       " [845.0],\n",
       " [859.9999999999999],\n",
       " [835.0],\n",
       " [845.0],\n",
       " [870.0000000000001],\n",
       " [890.0],\n",
       " [905.0],\n",
       " [890.0],\n",
       " [895.0],\n",
       " [854.9999999999999],\n",
       " [854.9999999999999],\n",
       " [830.0],\n",
       " [799.9999999999999],\n",
       " [770.0],\n",
       " [810.0000000000001],\n",
       " [805.0000000000001],\n",
       " [794.9999999999999],\n",
       " [794.9999999999999],\n",
       " [799.9999999999999],\n",
       " [810.0000000000001],\n",
       " [799.9999999999999],\n",
       " [785.0],\n",
       " [799.9999999999999],\n",
       " [799.9999999999999],\n",
       " [799.9999999999999],\n",
       " [825.0],\n",
       " [794.9999999999999],\n",
       " [810.0000000000001],\n",
       " [805.0000000000001],\n",
       " [840.0],\n",
       " [845.0],\n",
       " [820.0],\n",
       " [805.0000000000001],\n",
       " [815.0],\n",
       " [790.0],\n",
       " [805.0000000000001],\n",
       " [810.0000000000001],\n",
       " [820.0],\n",
       " [799.9999999999999],\n",
       " [785.0],\n",
       " [799.9999999999999],\n",
       " [770.0],\n",
       " [770.0],\n",
       " [775.0],\n",
       " [760.0],\n",
       " [765.0],\n",
       " [765.0],\n",
       " [755.0],\n",
       " [720.0],\n",
       " [725.0],\n",
       " [725.0],\n",
       " [700.0],\n",
       " [680.0],\n",
       " [680.0],\n",
       " [700.0],\n",
       " [690.0],\n",
       " [690.0],\n",
       " [690.0],\n",
       " [700.0],\n",
       " [710.0],\n",
       " [695.0],\n",
       " [675.0],\n",
       " [690.0],\n",
       " [670.0],\n",
       " [675.0],\n",
       " [690.0],\n",
       " [675.0],\n",
       " [670.0],\n",
       " [645.0],\n",
       " [630.0],\n",
       " [625.0],\n",
       " [605.0],\n",
       " [600.0],\n",
       " [610.0],\n",
       " [625.0],\n",
       " [640.0],\n",
       " [735.0],\n",
       " [690.0],\n",
       " [735.0],\n",
       " [739.9999999999999],\n",
       " [715.0],\n",
       " [720.0],\n",
       " [765.0],\n",
       " [760.0],\n",
       " [760.0],\n",
       " [760.0],\n",
       " [730.0],\n",
       " [755.0],\n",
       " [755.0],\n",
       " [765.0],\n",
       " [770.0],\n",
       " [770.0],\n",
       " [760.0],\n",
       " [785.0],\n",
       " [775.0],\n",
       " [765.0],\n",
       " [765.0],\n",
       " [770.0],\n",
       " [750.0000000000001],\n",
       " [750.0000000000001],\n",
       " [775.0],\n",
       " [775.0],\n",
       " [770.0],\n",
       " [780.0],\n",
       " [794.9999999999999],\n",
       " [794.9999999999999],\n",
       " [780.0],\n",
       " [830.0],\n",
       " [870.0000000000001],\n",
       " [850.0],\n",
       " [854.9999999999999],\n",
       " [854.9999999999999],\n",
       " [830.0],\n",
       " [865.0000000000001],\n",
       " [895.0],\n",
       " [945.0],\n",
       " [910.0],\n",
       " [935.0],\n",
       " [965.0],\n",
       " [974.9999999999999],\n",
       " [970.0],\n",
       " [1010.0],\n",
       " [1025.0],\n",
       " [1080.0],\n",
       " [1050.0],\n",
       " [1025.0],\n",
       " [979.9999999999999],\n",
       " [974.9999999999999],\n",
       " [1020.0],\n",
       " [990.0000000000001],\n",
       " [974.9999999999999],\n",
       " [1000.0],\n",
       " [1040.0],\n",
       " [1080.0],\n",
       " [1035.0],\n",
       " [1065.0],\n",
       " [1075.0],\n",
       " [1055.0],\n",
       " [1040.0],\n",
       " [1000.0],\n",
       " [1060.0],\n",
       " [1040.0],\n",
       " [1050.0],\n",
       " [1045.0],\n",
       " [1010.0],\n",
       " [1010.0],\n",
       " [1010.0],\n",
       " [974.9999999999999],\n",
       " [974.9999999999999],\n",
       " [965.0],\n",
       " [979.9999999999999],\n",
       " [960.0],\n",
       " [960.0],\n",
       " [970.0],\n",
       " [960.0],\n",
       " [940.0],\n",
       " [925.0000000000001],\n",
       " [925.0000000000001],\n",
       " [895.0],\n",
       " [880.0],\n",
       " [900.0],\n",
       " [940.0],\n",
       " [925.0000000000001],\n",
       " [935.0],\n",
       " [910.0],\n",
       " [905.0],\n",
       " [885.0],\n",
       " [900.0],\n",
       " [900.0],\n",
       " [885.0],\n",
       " [880.0],\n",
       " [880.0],\n",
       " [895.0],\n",
       " [905.0],\n",
       " [885.0],\n",
       " [880.0],\n",
       " [859.9999999999999],\n",
       " [890.0],\n",
       " [880.0],\n",
       " [865.0000000000001],\n",
       " [875.0],\n",
       " [875.0],\n",
       " [865.0000000000001],\n",
       " [865.0000000000001],\n",
       " [820.0],\n",
       " [780.0],\n",
       " [765.0],\n",
       " [755.0],\n",
       " [765.0],\n",
       " [739.9999999999999],\n",
       " [745.0000000000001],\n",
       " [720.0],\n",
       " [720.0],\n",
       " [700.0],\n",
       " [690.0],\n",
       " [675.0],\n",
       " [690.0],\n",
       " [700.0],\n",
       " [710.0],\n",
       " [739.9999999999999],\n",
       " [739.9999999999999],\n",
       " [750.0000000000001],\n",
       " [710.0],\n",
       " [715.0],\n",
       " [715.0],\n",
       " [725.0],\n",
       " [725.0],\n",
       " [725.0],\n",
       " [725.0],\n",
       " [725.0],\n",
       " [730.0],\n",
       " [785.0],\n",
       " [794.9999999999999],\n",
       " [785.0],\n",
       " [785.0],\n",
       " [799.9999999999999],\n",
       " [765.0],\n",
       " [810.0000000000001],\n",
       " [815.0],\n",
       " [805.0000000000001],\n",
       " [805.0000000000001],\n",
       " [845.0],\n",
       " [830.0],\n",
       " [840.0],\n",
       " [850.0],\n",
       " [845.0],\n",
       " [845.0],\n",
       " [825.0],\n",
       " [820.0],\n",
       " [810.0000000000001],\n",
       " [825.0],\n",
       " [830.0],\n",
       " [835.0],\n",
       " [850.0],\n",
       " [854.9999999999999],\n",
       " [885.0],\n",
       " [900.0],\n",
       " [919.9999999999999],\n",
       " [970.0],\n",
       " [940.0],\n",
       " [950.0],\n",
       " [940.0],\n",
       " [955.0],\n",
       " [930.0000000000001],\n",
       " [895.0],\n",
       " [905.0],\n",
       " [940.0],\n",
       " [935.0],\n",
       " [905.0],\n",
       " [900.0],\n",
       " [850.0],\n",
       " [945.0],\n",
       " [1050.0],\n",
       " [1030.0],\n",
       " [1070.0],\n",
       " [1045.0],\n",
       " [1070.0],\n",
       " [1090.0],\n",
       " [1140.0000000000002],\n",
       " [1130.0000000000002],\n",
       " [1080.0],\n",
       " [1055.0],\n",
       " [1075.0],\n",
       " [1045.0],\n",
       " [1020.0],\n",
       " [1040.0],\n",
       " [1030.0],\n",
       " [1060.0],\n",
       " [1075.0],\n",
       " [1120.0000000000002],\n",
       " [1170.0],\n",
       " [1120.0000000000002],\n",
       " [1105.0],\n",
       " [1090.0],\n",
       " [1080.0],\n",
       " [1130.0000000000002],\n",
       " [1125.0],\n",
       " [1125.0],\n",
       " [1120.0000000000002],\n",
       " [1070.0],\n",
       " [1045.0],\n",
       " [1055.0],\n",
       " [1065.0],\n",
       " [1050.0],\n",
       " [1070.0],\n",
       " [1050.0],\n",
       " [1015.0],\n",
       " [1015.0],\n",
       " [1015.0],\n",
       " [990.0000000000001],\n",
       " [990.0000000000001],\n",
       " [965.0],\n",
       " [919.9999999999999],\n",
       " [974.9999999999999],\n",
       " [965.0],\n",
       " [950.0],\n",
       " [935.0],\n",
       " [995.0],\n",
       " [995.0],\n",
       " [1015.0],\n",
       " [990.0000000000001],\n",
       " [985.0000000000001],\n",
       " [945.0],\n",
       " [955.0],\n",
       " [940.0],\n",
       " [919.9999999999999],\n",
       " [945.0],\n",
       " [960.0],\n",
       " [979.9999999999999],\n",
       " [950.0],\n",
       " [925.0000000000001],\n",
       " [930.0000000000001],\n",
       " [935.0],\n",
       " [900.0],\n",
       " [854.9999999999999],\n",
       " [830.0],\n",
       " [840.0],\n",
       " [854.9999999999999],\n",
       " [840.0],\n",
       " [830.0],\n",
       " [815.0],\n",
       " [830.0],\n",
       " [820.0],\n",
       " [810.0000000000001],\n",
       " [825.0],\n",
       " [820.0],\n",
       " [840.0],\n",
       " [820.0],\n",
       " [820.0],\n",
       " [810.0000000000001],\n",
       " [820.0],\n",
       " [810.0000000000001],\n",
       " [780.0],\n",
       " [750.0000000000001],\n",
       " [739.9999999999999],\n",
       " [785.0],\n",
       " [775.0],\n",
       " [785.0],\n",
       " [810.0000000000001],\n",
       " [810.0000000000001],\n",
       " [825.0],\n",
       " [830.0],\n",
       " [835.0],\n",
       " [845.0],\n",
       " [854.9999999999999],\n",
       " [870.0000000000001],\n",
       " [859.9999999999999],\n",
       " [830.0],\n",
       " [845.0],\n",
       " [835.0],\n",
       " [830.0],\n",
       " [850.0],\n",
       " [840.0],\n",
       " [845.0],\n",
       " [845.0],\n",
       " [859.9999999999999],\n",
       " [885.0],\n",
       " [895.0],\n",
       " [895.0],\n",
       " [880.0],\n",
       " [885.0],\n",
       " [870.0000000000001],\n",
       " [850.0],\n",
       " [850.0],\n",
       " [840.0],\n",
       " [840.0],\n",
       " [794.9999999999999],\n",
       " [799.9999999999999],\n",
       " [785.0],\n",
       " [780.0],\n",
       " [790.0],\n",
       " [750.0000000000001],\n",
       " [760.0],\n",
       " [750.0000000000001],\n",
       " [745.0000000000001],\n",
       " [725.0],\n",
       " [725.0],\n",
       " [730.0],\n",
       " [730.0],\n",
       " [730.0],\n",
       " [750.0000000000001],\n",
       " [730.0],\n",
       " [720.0],\n",
       " [715.0],\n",
       " [680.0],\n",
       " [675.0],\n",
       " [680.0],\n",
       " [700.0],\n",
       " [710.0],\n",
       " [715.0],\n",
       " [710.0],\n",
       " [685.0],\n",
       " [650.0],\n",
       " [630.0],\n",
       " [590.0],\n",
       " [580.0],\n",
       " [600.0],\n",
       " [615.0],\n",
       " [635.0],\n",
       " [625.0],\n",
       " [590.0],\n",
       " [555.0],\n",
       " [580.0],\n",
       " [520.0],\n",
       " [489.99999999999994],\n",
       " [489.99999999999994],\n",
       " [445.99999999999994],\n",
       " [398.00000000000006],\n",
       " [362.0],\n",
       " [360.0],\n",
       " [369.99999999999994],\n",
       " [348.0],\n",
       " [366.0],\n",
       " [432.0],\n",
       " [450.0],\n",
       " [440.0],\n",
       " [450.0],\n",
       " [436.0],\n",
       " [458.00000000000006],\n",
       " [466.0],\n",
       " [580.0],\n",
       " [555.0],\n",
       " [510.0],\n",
       " [520.0],\n",
       " [550.0],\n",
       " [560.0],\n",
       " [535.0],\n",
       " [520.0],\n",
       " [515.0],\n",
       " [500.0],\n",
       " [475.99999999999994],\n",
       " [500.0],\n",
       " [496.0],\n",
       " [494.0],\n",
       " [505.0],\n",
       " [492.0],\n",
       " [500.0],\n",
       " [489.99999999999994],\n",
       " [500.0],\n",
       " [505.0],\n",
       " [505.0],\n",
       " [545.0],\n",
       " [525.0],\n",
       " [515.0],\n",
       " [530.0],\n",
       " [525.0],\n",
       " [525.0],\n",
       " [535.0],\n",
       " [530.0],\n",
       " [530.0],\n",
       " [530.0],\n",
       " [520.0],\n",
       " [525.0],\n",
       " [540.0],\n",
       " [565.0],\n",
       " [565.0],\n",
       " [575.0],\n",
       " [595.0],\n",
       " [640.0],\n",
       " [615.0],\n",
       " [600.0],\n",
       " [560.0],\n",
       " [585.0],\n",
       " [575.0],\n",
       " [620.0],\n",
       " [625.0],\n",
       " [625.0],\n",
       " [610.0],\n",
       " [600.0],\n",
       " [605.0],\n",
       " [595.0],\n",
       " [610.0],\n",
       " [610.0],\n",
       " [605.0],\n",
       " [610.0],\n",
       " [600.0],\n",
       " [615.0],\n",
       " [605.0],\n",
       " [645.0],\n",
       " [650.0],\n",
       " [660.0],\n",
       " [650.0],\n",
       " [645.0],\n",
       " [670.0],\n",
       " [665.0],\n",
       " [655.0],\n",
       " [655.0],\n",
       " [660.0],\n",
       " [655.0],\n",
       " [690.0],\n",
       " [695.0],\n",
       " [705.0],\n",
       " [695.0],\n",
       " [730.0],\n",
       " [720.0],\n",
       " [730.0],\n",
       " [739.9999999999999],\n",
       " [700.0],\n",
       " [730.0],\n",
       " [765.0],\n",
       " [840.0],\n",
       " [840.0],\n",
       " [825.0],\n",
       " [794.9999999999999],\n",
       " [770.0],\n",
       " [780.0],\n",
       " [799.9999999999999],\n",
       " [810.0000000000001],\n",
       " [805.0000000000001],\n",
       " [780.0],\n",
       " [790.0],\n",
       " [790.0],\n",
       " ...]"
      ]
     },
     "execution_count": 87,
     "metadata": {},
     "output_type": "execute_result"
    }
   ],
   "source": [
    "final_graph"
   ]
  },
  {
   "cell_type": "code",
   "execution_count": 88,
   "metadata": {},
   "outputs": [
    {
     "data": {
      "text/plain": [
       "1290"
      ]
     },
     "execution_count": 88,
     "metadata": {},
     "output_type": "execute_result"
    }
   ],
   "source": [
    "len(final_graph)"
   ]
  },
  {
   "cell_type": "code",
   "execution_count": 89,
   "metadata": {},
   "outputs": [
    {
     "name": "stdout",
     "output_type": "stream",
     "text": [
      "              Open    High     Low   Close  Adj Close     Volume\n",
      "Date                                                            \n",
      "2021-08-10  2270.0  2370.0  2240.0  2340.0     2340.0  131980200\n",
      "2021-08-12  2400.0  2430.0  2380.0  2400.0     2400.0  127108900\n",
      "2021-08-13  2410.0  2410.0  2350.0  2380.0     2380.0   66587000\n",
      "2021-08-16  2370.0  2400.0  2350.0  2390.0     2390.0   48998000\n",
      "2021-08-18  2390.0  2420.0  2360.0  2400.0     2400.0   85335000\n",
      "2021-08-19  2380.0  2380.0  2270.0  2270.0     2270.0  131304600\n",
      "2021-08-20  2240.0  2320.0  2240.0  2280.0     2280.0   71969400\n",
      "2021-08-23  2310.0  2330.0  2280.0  2290.0     2290.0   65261800\n",
      "2021-08-24  2330.0  2330.0  2270.0  2270.0     2270.0   43554200\n",
      "2021-08-25  2290.0  2340.0  2280.0  2300.0     2300.0   61473600\n",
      "2021-08-26  2300.0  2310.0  2270.0  2270.0     2270.0   30446800\n",
      "2021-08-27  2270.0  2290.0  2250.0  2260.0     2260.0   31806000\n",
      "2021-08-30  2280.0  2320.0  2280.0  2310.0     2310.0   37542900\n",
      "2021-08-31  2350.0  2400.0  2320.0  2390.0     2390.0  117729600\n",
      "2021-09-01  2390.0  2430.0  2370.0  2390.0     2390.0   81067300\n",
      "2021-09-02  2390.0  2390.0  2320.0  2320.0     2320.0   44419100\n",
      "2021-09-03  2320.0  2350.0  2300.0  2350.0     2350.0   29176500\n",
      "2021-09-06  2380.0  2400.0  2340.0  2380.0     2380.0   65055100\n",
      "2021-09-07  2400.0  2410.0  2350.0  2350.0     2350.0   33406100\n",
      "2021-09-08  2350.0  2380.0  2300.0  2320.0     2320.0   58229900\n",
      "2021-09-09  2330.0  2450.0  2290.0  2440.0     2440.0  150815700\n",
      "2021-09-10  2470.0  2630.0  2470.0  2590.0     2590.0  423200100\n",
      "2021-09-13  2570.0  2590.0  2480.0  2520.0     2520.0  131318700\n",
      "2021-09-14  2500.0  2500.0  2440.0  2470.0     2470.0  139289700\n",
      "2021-09-15  2470.0  2530.0  2460.0  2490.0     2490.0  110525900\n",
      "2021-09-16  2520.0  2550.0  2390.0  2410.0     2410.0  163306000\n",
      "2021-09-17  2370.0  2430.0  2370.0  2400.0     2400.0   61535600\n",
      "2021-09-20  2380.0  2390.0  2330.0  2350.0     2350.0   82487500\n",
      "2021-09-21  2350.0  2370.0  2300.0  2360.0     2360.0   66014000\n",
      "2021-09-22  2370.0  2410.0  2330.0  2340.0     2340.0   88209700\n"
     ]
    }
   ],
   "source": [
    "print(data[1230:1260])"
   ]
  },
  {
   "cell_type": "code",
   "execution_count": 90,
   "metadata": {},
   "outputs": [
    {
     "name": "stdout",
     "output_type": "stream",
     "text": [
      "[[2270.0], [2400.0], [2410.0], [2370.0], [2390.0], [2380.0], [2240.0], [2310.0], [2330.0], [2290.0], [2300.0], [2270.0], [2280.0], [2350.0], [2390.0], [2390.0], [2320.0], [2380.0], [2400.0], [2350.0], [2330.0], [2470.0], [2570.0], [2500.0], [2470.0], [2520.0], [2370.0], [2380.0], [2350.0], [2370.0]]\n"
     ]
    }
   ],
   "source": [
    "print(final_graph[1230:1260])"
   ]
  },
  {
   "cell_type": "code",
   "execution_count": 91,
   "metadata": {},
   "outputs": [],
   "source": [
    "pri=final_graph"
   ]
  },
  {
   "cell_type": "code",
   "execution_count": 92,
   "metadata": {},
   "outputs": [
    {
     "name": "stdout",
     "output_type": "stream",
     "text": [
      "[[2270.0], [2400.0], [2410.0], [2370.0], [2390.0], [2380.0], [2240.0], [2310.0], [2330.0], [2290.0], [2300.0], [2270.0], [2280.0], [2350.0], [2390.0], [2390.0], [2320.0], [2380.0], [2400.0], [2350.0], [2330.0], [2470.0], [2570.0], [2500.0], [2470.0], [2520.0], [2370.0], [2380.0], [2350.0], [2370.0]]\n"
     ]
    }
   ],
   "source": [
    "print(pri[1230:1260])"
   ]
  },
  {
   "cell_type": "code",
   "execution_count": 93,
   "metadata": {},
   "outputs": [],
   "source": [
    "import pandas as pd\n",
    "\n",
    "aa = pd.DataFrame(pri)\n",
    "\n",
    "aa.to_csv('cb2.csv')"
   ]
  }
 ],
 "metadata": {
  "interpreter": {
   "hash": "380030d1298d5a27518acca789ff38fe82bbf2e68b73263de6a6bf23efb7704c"
  },
  "kernelspec": {
   "display_name": "Python 3.8.8 64-bit ('base': conda)",
   "name": "python3"
  },
  "language_info": {
   "codemirror_mode": {
    "name": "ipython",
    "version": 3
   },
   "file_extension": ".py",
   "mimetype": "text/x-python",
   "name": "python",
   "nbconvert_exporter": "python",
   "pygments_lexer": "ipython3",
   "version": "3.8.8"
  },
  "orig_nbformat": 4
 },
 "nbformat": 4,
 "nbformat_minor": 2
}
